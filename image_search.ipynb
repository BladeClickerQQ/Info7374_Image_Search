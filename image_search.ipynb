{
 "cells": [
  {
   "cell_type": "markdown",
   "id": "2bcf8e64",
   "metadata": {
    "id": "2bcf8e64"
   },
   "source": [
    "[![Open In Colab](https://colab.research.google.com/assets/colab-badge.svg)](https://colab.research.google.com/github/pinecone-io/examples/blob/master/search/image/image-search/image-search.ipynb) [![Open nbviewer](https://raw.githubusercontent.com/pinecone-io/examples/master/assets/nbviewer-shield.svg)](https://nbviewer.org/github/pinecone-io/examples/blob/master/search/image/image-search/image-search.ipynb)"
   ]
  },
  {
   "cell_type": "markdown",
   "id": "28ae2699",
   "metadata": {
    "id": "28ae2699"
   },
   "source": [
    "# Image Search"
   ]
  },
  {
   "cell_type": "markdown",
   "id": "8e79d22c",
   "metadata": {
    "id": "8e79d22c",
    "papermill": {
     "duration": 0.058948,
     "end_time": "2021-04-28T22:35:28.242456",
     "exception": false,
     "start_time": "2021-04-28T22:35:28.183508",
     "status": "completed"
    },
    "tags": []
   },
   "source": [
    "## Background"
   ]
  },
  {
   "cell_type": "markdown",
   "id": "ed7f87b7",
   "metadata": {
    "id": "ed7f87b7"
   },
   "source": [
    "### What is Image Search and how will we use it?"
   ]
  },
  {
   "cell_type": "markdown",
   "id": "finished-simulation",
   "metadata": {
    "id": "finished-simulation",
    "papermill": {
     "duration": 0.058948,
     "end_time": "2021-04-28T22:35:28.242456",
     "exception": false,
     "start_time": "2021-04-28T22:35:28.183508",
     "status": "completed"
    },
    "tags": []
   },
   "source": [
    "One may find themselves with an image, looking for similar images among a large image corpus. The difficult part of this requirement is instantly retrieving, at scale, similar images, especially when there are tens of millions or billions of images from which to choose.\n",
    "\n",
    "In this example, we will walk you through the mechanics of how to solve this problem using an off-the-shelf, pretrained, neural network to generate data structures known as [vector embeddings](https://www.pinecone.io/learn/vector-embeddings/). We will use Pinecone's vector database offering to find images with similar vector embeddings to an _query image_."
   ]
  },
  {
   "cell_type": "markdown",
   "id": "016a0805",
   "metadata": {
    "id": "016a0805"
   },
   "source": [
    "### Learning Goals and Estimated Reading Time\n",
    "\n",
    "_By the end of this 15 minute demo (on a recent MacBook Pro, or up to an hour on Google Colab), you will have:_\n",
    " 1. Learned about Pinecone's value for solving realtime image search requirements!\n",
    " 2. Stored and retrieved vectors from Pinecone your very-own Pinecone Vector Database.\n",
    " 3. Encoded images as vectors using a pretrained neural network (i.e. no model training necessary).\n",
    " 4. Queried Pinecone's Vector Database to find similar images to the query in question.\n",
    " \n",
    "Once all data is encoded as vectors, and is in your Pinecone Index, results of Pinecone queries are returned, on average, in tens of milliseconds."
   ]
  },
  {
   "cell_type": "markdown",
   "id": "afc5b028",
   "metadata": {
    "id": "afc5b028"
   },
   "source": [
    "## Setup: Prerequisites and Image Data"
   ]
  },
  {
   "cell_type": "markdown",
   "id": "f63155b7",
   "metadata": {
    "id": "f63155b7"
   },
   "source": [
    "### Python 3.7+\n",
    "\n",
    "This code has been tested with Python 3.7. It is recommended to run this code in a virtual environment or Google Colab."
   ]
  },
  {
   "cell_type": "markdown",
   "id": "00dd630e",
   "metadata": {
    "id": "00dd630e"
   },
   "source": [
    "### Acquiring your Pinecone API Key\n",
    "\n",
    "A Pinecone API key is required. You can obtain a complimentary key on our [our website](https://app.pinecone.io/). Either add `PINECONE_EXAMPLE_API_KEY` to your list of environmental variables, or manually enter it after running the below cell (a prompt will pop up requesting the API key, storing the result within this kernel (session))."
   ]
  },
  {
   "cell_type": "markdown",
   "id": "258bdbd1",
   "metadata": {
    "id": "258bdbd1",
    "papermill": {
     "duration": 0.04542,
     "end_time": "2021-04-28T22:35:28.335525",
     "exception": false,
     "start_time": "2021-04-28T22:35:28.290105",
     "status": "completed"
    },
    "tags": []
   },
   "source": [
    "### Installing and Importing Prerequisite Libraries:\n",
    "All prerequisites are installed and listed in the next cell."
   ]
  },
  {
   "cell_type": "markdown",
   "id": "d4d1ae55",
   "metadata": {
    "id": "d4d1ae55"
   },
   "source": [
    "#### Installing via `pip`"
   ]
  },
  {
   "cell_type": "code",
   "execution_count": 50,
   "id": "2d322d91",
   "metadata": {
    "colab": {
     "base_uri": "https://localhost:8080/"
    },
    "execution": {
     "iopub.execute_input": "2021-04-28T22:35:28.515988Z",
     "iopub.status.busy": "2021-04-28T22:35:28.515371Z",
     "iopub.status.idle": "2021-04-28T22:37:24.802452Z",
     "shell.execute_reply": "2021-04-28T22:37:24.797457Z"
    },
    "id": "2d322d91",
    "outputId": "c0fa442e-03e5-4b10-82da-46e6adea46b8",
    "papermill": {
     "duration": 116.33689,
     "end_time": "2021-04-28T22:37:24.803401",
     "exception": false,
     "start_time": "2021-04-28T22:35:28.466511",
     "status": "completed"
    },
    "tags": []
   },
   "outputs": [],
   "source": [
    "!pip install -qU pinecone-client \\\n",
    "                 torchvision \\\n",
    "                 seaborn \\\n",
    "                 tqdm \\\n",
    "                 httpimport \\\n",
    "                 requests\n",
    "\n"
   ]
  },
  {
   "cell_type": "markdown",
   "id": "19036494",
   "metadata": {
    "id": "19036494"
   },
   "source": [
    "#### Importing and Defining Constants"
   ]
  },
  {
   "cell_type": "code",
   "execution_count": 1,
   "id": "23dcca1d",
   "metadata": {},
   "outputs": [],
   "source": [
    "import torch"
   ]
  },
  {
   "cell_type": "code",
   "execution_count": 2,
   "id": "661c69f1",
   "metadata": {
    "colab": {
     "base_uri": "https://localhost:8080/"
    },
    "id": "661c69f1",
    "outputId": "d0e8633c-49c6-41e9-e587-ac6d04cc637b"
   },
   "outputs": [
    {
     "name": "stderr",
     "output_type": "stream",
     "text": [
      "/Users/laibinghui/opt/anaconda3/lib/python3.9/site-packages/pinecone/index.py:4: TqdmExperimentalWarning: Using `tqdm.autonotebook.tqdm` in notebook mode. Use `tqdm.tqdm` instead to force console mode (e.g. in jupyter console)\n",
      "  from tqdm.autonotebook import tqdm\n"
     ]
    }
   ],
   "source": [
    "import os\n",
    "import requests\n",
    "\n",
    "import tqdm\n",
    "import httpimport\n",
    "import pinecone\n",
    "import numpy as np\n",
    "from PIL import Image\n",
    "from torchvision import transforms\n",
    "from torchvision.datasets import ImageFolder\n",
    "from torch.utils.data import DataLoader\n",
    "\n",
    "import torch\n",
    "import torchvision\n",
    "\n",
    "DATA_DIRECTORY_TEST = 'tmp'\n",
    "INDEX_NAME = 'image-search-clothes'\n",
    "DATA_DIRECTORY = '/Users/laibinghui/Downloads/images_clothes'\n",
    "INDEX_DIMENSION = 1000\n",
    "BATCH_SIZE=200"
   ]
  },
  {
   "cell_type": "markdown",
   "id": "f0cab1fe",
   "metadata": {
    "id": "f0cab1fe"
   },
   "source": [
    "### Helper Module\n",
    "\n",
    "This helper module will be imported and will enable this notebook to be self-contained."
   ]
  },
  {
   "cell_type": "code",
   "execution_count": 3,
   "id": "e960a5a7",
   "metadata": {
    "colab": {
     "base_uri": "https://localhost:8080/",
     "height": 119
    },
    "id": "e960a5a7",
    "outputId": "d62239d6-e759-4c7e-850b-1d4c20a503b7"
   },
   "outputs": [
    {
     "data": {
      "text/markdown": [
       "Extracting API Key from environmental variable `PINECONE_EXAMPLE_API_KEY`..."
      ],
      "text/plain": [
       "<IPython.core.display.Markdown object>"
      ]
     },
     "metadata": {},
     "output_type": "display_data"
    },
    {
     "data": {
      "text/markdown": [
       "PINECONE_EXAMPLE_API_KEY not found in environmental variables list.\n",
       "Get yours at https://app.pinecone.io and enter it here: "
      ],
      "text/plain": [
       "<IPython.core.display.Markdown object>"
      ]
     },
     "metadata": {},
     "output_type": "display_data"
    },
    {
     "name": "stdout",
     "output_type": "stream",
     "text": [
      "········\n"
     ]
    },
    {
     "data": {
      "text/markdown": [
       "Pinecone API Key available at `h.pinecone_api_key`"
      ],
      "text/plain": [
       "<IPython.core.display.Markdown object>"
      ]
     },
     "metadata": {},
     "output_type": "display_data"
    }
   ],
   "source": [
    "# There is a helper module required for this notebook to run.\n",
    "# When not present with this notebook, it will be streamed in from Pinecone's Example Repository.\n",
    "# You can find the module at https://github.com/pinecone-io/examples/tree/master/image_search\n",
    "\n",
    "#key:e55c8ed0-af09-4521-8a56-8b0776c0aa8c\n",
    "if os.path.isfile('helper.py'):\n",
    "    import helper as h\n",
    "else:\n",
    "    print('importing `helper.py` from https://github.com/pinecone-io')\n",
    "    with httpimport.github_repo(\n",
    "        username='pinecone-io', \n",
    "        repo='examples',\n",
    "        module=['search/image/image-search'],\n",
    "        branch='master'):\n",
    "        from image_search import helper as h"
   ]
  },
  {
   "cell_type": "markdown",
   "id": "sitting-colony",
   "metadata": {
    "id": "sitting-colony",
    "papermill": {
     "duration": 0.046053,
     "end_time": "2021-04-28T22:37:26.485100",
     "exception": false,
     "start_time": "2021-04-28T22:37:26.439047",
     "status": "completed"
    },
    "tags": []
   },
   "source": [
    "### Downloading Data\n",
    "\n",
    "To demonstrate image search using Pinecone, we will download 100,000 small images using [built-in datasets](https://pytorch.org/vision/stable/datasets.html) available with the `torchvision` library."
   ]
  },
  {
   "cell_type": "code",
   "execution_count": 4,
   "id": "356712c2",
   "metadata": {
    "colab": {
     "base_uri": "https://localhost:8080/",
     "height": 356
    },
    "id": "356712c2",
    "outputId": "759ef489-f989-4d0e-e6b3-faf61c5b1abb"
   },
   "outputs": [],
   "source": [
    "_datasets = {\n",
    "#     'deepfashion': torchvision.datasets.ImageFolder(DATA_DIRECTORY, transform=h.preprocess)\n",
    "    'deepfashion': r\"/Users/laibinghui/Downloads/images_clothes\"\n",
    "#     'CIFAR100': torchvision.datasets.CIFAR100(DATA_DIRECTORY_TEST, transform=h.preprocess, download=True)\n",
    "}\n",
    "\n",
    "# datasets_test = {\n",
    "#     #'CIFAR10': torchvision.datasets.CIFAR10(DATA_DIRECTORY_TEST, transform=h.preprocess, download=True)\n",
    "#     #\n",
    "# }\n",
    "\n",
    "#datasets = torchvision.datasets.ImageFolder(DATA_DIRECTORY, transform=h.preprocess)"
   ]
  },
  {
   "cell_type": "code",
   "execution_count": 5,
   "id": "9af58160",
   "metadata": {},
   "outputs": [
    {
     "data": {
      "text/plain": [
       "'/Users/laibinghui/Downloads/images_clothes'"
      ]
     },
     "execution_count": 5,
     "metadata": {},
     "output_type": "execute_result"
    }
   ],
   "source": [
    "_datasets['deepfashion']"
   ]
  },
  {
   "cell_type": "code",
   "execution_count": 6,
   "id": "3224f2b8",
   "metadata": {},
   "outputs": [],
   "source": [
    "import torchvision.datasets as datasets\n",
    "import torchvision.transforms as transforms\n",
    "\n",
    "transform = transforms.Compose([\n",
    "    transforms.Resize((224,224)),\n",
    "    transforms.ToTensor()\n",
    "])\n",
    "\n",
    "train_dataset = datasets.ImageFolder(_datasets['deepfashion'],transform = transform)\n",
    "train_loader = DataLoader(train_dataset, batch_size = 32, shuffle = True)"
   ]
  },
  {
   "cell_type": "code",
   "execution_count": 7,
   "id": "c98a65b2",
   "metadata": {},
   "outputs": [
    {
     "name": "stdout",
     "output_type": "stream",
     "text": [
      "tensor([[[[0.9216, 0.9216, 0.9216,  ..., 0.8510, 0.8510, 0.8510],\n",
      "          [0.9216, 0.9216, 0.9216,  ..., 0.8510, 0.8510, 0.8510],\n",
      "          [0.9255, 0.9255, 0.9255,  ..., 0.8549, 0.8549, 0.8549],\n",
      "          ...,\n",
      "          [0.9333, 0.9333, 0.9333,  ..., 0.8706, 0.8706, 0.8706],\n",
      "          [0.9333, 0.9333, 0.9333,  ..., 0.8706, 0.8706, 0.8706],\n",
      "          [0.9333, 0.9333, 0.9333,  ..., 0.8706, 0.8706, 0.8706]],\n",
      "\n",
      "         [[0.9137, 0.9137, 0.9137,  ..., 0.8510, 0.8510, 0.8510],\n",
      "          [0.9137, 0.9137, 0.9137,  ..., 0.8510, 0.8510, 0.8510],\n",
      "          [0.9176, 0.9176, 0.9176,  ..., 0.8549, 0.8549, 0.8549],\n",
      "          ...,\n",
      "          [0.9333, 0.9333, 0.9333,  ..., 0.8706, 0.8706, 0.8706],\n",
      "          [0.9333, 0.9333, 0.9333,  ..., 0.8706, 0.8706, 0.8706],\n",
      "          [0.9333, 0.9333, 0.9333,  ..., 0.8706, 0.8706, 0.8706]],\n",
      "\n",
      "         [[0.9176, 0.9176, 0.9176,  ..., 0.8510, 0.8510, 0.8510],\n",
      "          [0.9176, 0.9176, 0.9176,  ..., 0.8510, 0.8510, 0.8510],\n",
      "          [0.9216, 0.9216, 0.9216,  ..., 0.8549, 0.8549, 0.8549],\n",
      "          ...,\n",
      "          [0.9333, 0.9333, 0.9333,  ..., 0.8706, 0.8627, 0.8627],\n",
      "          [0.9333, 0.9333, 0.9333,  ..., 0.8706, 0.8667, 0.8627],\n",
      "          [0.9333, 0.9333, 0.9333,  ..., 0.8706, 0.8706, 0.8706]]],\n",
      "\n",
      "\n",
      "        [[[0.9451, 0.9451, 0.9451,  ..., 0.9373, 0.9373, 0.9373],\n",
      "          [0.9451, 0.9451, 0.9451,  ..., 0.9373, 0.9373, 0.9373],\n",
      "          [0.9451, 0.9451, 0.9451,  ..., 0.9373, 0.9373, 0.9373],\n",
      "          ...,\n",
      "          [0.9569, 0.9608, 0.9608,  ..., 0.9529, 0.9529, 0.9490],\n",
      "          [0.9569, 0.9608, 0.9569,  ..., 0.9529, 0.9490, 0.9490],\n",
      "          [0.9569, 0.9569, 0.9569,  ..., 0.9529, 0.9490, 0.9490]],\n",
      "\n",
      "         [[0.9451, 0.9451, 0.9451,  ..., 0.9373, 0.9373, 0.9373],\n",
      "          [0.9451, 0.9451, 0.9451,  ..., 0.9373, 0.9373, 0.9373],\n",
      "          [0.9451, 0.9451, 0.9451,  ..., 0.9373, 0.9373, 0.9373],\n",
      "          ...,\n",
      "          [0.9569, 0.9608, 0.9608,  ..., 0.9529, 0.9529, 0.9490],\n",
      "          [0.9569, 0.9608, 0.9569,  ..., 0.9529, 0.9490, 0.9490],\n",
      "          [0.9569, 0.9569, 0.9569,  ..., 0.9529, 0.9490, 0.9490]],\n",
      "\n",
      "         [[0.9529, 0.9529, 0.9529,  ..., 0.9412, 0.9412, 0.9412],\n",
      "          [0.9529, 0.9529, 0.9529,  ..., 0.9451, 0.9451, 0.9451],\n",
      "          [0.9529, 0.9529, 0.9529,  ..., 0.9373, 0.9373, 0.9412],\n",
      "          ...,\n",
      "          [0.9647, 0.9686, 0.9686,  ..., 0.9608, 0.9608, 0.9569],\n",
      "          [0.9647, 0.9686, 0.9647,  ..., 0.9569, 0.9569, 0.9529],\n",
      "          [0.9647, 0.9647, 0.9647,  ..., 0.9569, 0.9529, 0.9529]]],\n",
      "\n",
      "\n",
      "        [[[0.9569, 0.9569, 0.9569,  ..., 0.9333, 0.9333, 0.9333],\n",
      "          [0.9569, 0.9569, 0.9569,  ..., 0.9333, 0.9333, 0.9333],\n",
      "          [0.9569, 0.9569, 0.9569,  ..., 0.9333, 0.9333, 0.9333],\n",
      "          ...,\n",
      "          [0.9333, 0.9373, 0.9373,  ..., 0.9255, 0.9255, 0.9216],\n",
      "          [0.9333, 0.9373, 0.9373,  ..., 0.9216, 0.9216, 0.9176],\n",
      "          [0.9373, 0.9373, 0.9373,  ..., 0.9176, 0.9176, 0.9137]],\n",
      "\n",
      "         [[0.9569, 0.9569, 0.9569,  ..., 0.9373, 0.9373, 0.9373],\n",
      "          [0.9569, 0.9569, 0.9569,  ..., 0.9373, 0.9373, 0.9373],\n",
      "          [0.9569, 0.9569, 0.9569,  ..., 0.9373, 0.9373, 0.9373],\n",
      "          ...,\n",
      "          [0.9333, 0.9373, 0.9373,  ..., 0.9255, 0.9255, 0.9255],\n",
      "          [0.9333, 0.9373, 0.9373,  ..., 0.9255, 0.9255, 0.9216],\n",
      "          [0.9373, 0.9373, 0.9373,  ..., 0.9216, 0.9216, 0.9176]],\n",
      "\n",
      "         [[0.9647, 0.9647, 0.9647,  ..., 0.9451, 0.9451, 0.9451],\n",
      "          [0.9647, 0.9647, 0.9647,  ..., 0.9451, 0.9451, 0.9451],\n",
      "          [0.9647, 0.9647, 0.9647,  ..., 0.9451, 0.9451, 0.9451],\n",
      "          ...,\n",
      "          [0.9333, 0.9373, 0.9373,  ..., 0.9255, 0.9255, 0.9216],\n",
      "          [0.9333, 0.9373, 0.9373,  ..., 0.9216, 0.9216, 0.9176],\n",
      "          [0.9373, 0.9373, 0.9373,  ..., 0.9216, 0.9176, 0.9176]]],\n",
      "\n",
      "\n",
      "        ...,\n",
      "\n",
      "\n",
      "        [[[0.9412, 0.9412, 0.9412,  ..., 0.9255, 0.9216, 0.9216],\n",
      "          [0.9412, 0.9412, 0.9412,  ..., 0.9255, 0.9216, 0.9216],\n",
      "          [0.9412, 0.9412, 0.9412,  ..., 0.9255, 0.9255, 0.9255],\n",
      "          ...,\n",
      "          [0.9647, 0.9647, 0.9647,  ..., 0.9569, 0.9569, 0.9569],\n",
      "          [0.9647, 0.9647, 0.9647,  ..., 0.9569, 0.9569, 0.9569],\n",
      "          [0.9647, 0.9647, 0.9647,  ..., 0.9569, 0.9569, 0.9569]],\n",
      "\n",
      "         [[0.9412, 0.9412, 0.9412,  ..., 0.9255, 0.9294, 0.9294],\n",
      "          [0.9412, 0.9412, 0.9412,  ..., 0.9255, 0.9255, 0.9255],\n",
      "          [0.9412, 0.9412, 0.9412,  ..., 0.9255, 0.9255, 0.9255],\n",
      "          ...,\n",
      "          [0.9647, 0.9647, 0.9647,  ..., 0.9569, 0.9569, 0.9569],\n",
      "          [0.9647, 0.9647, 0.9647,  ..., 0.9569, 0.9569, 0.9569],\n",
      "          [0.9647, 0.9647, 0.9647,  ..., 0.9569, 0.9569, 0.9569]],\n",
      "\n",
      "         [[0.9412, 0.9412, 0.9412,  ..., 0.9255, 0.9255, 0.9255],\n",
      "          [0.9412, 0.9412, 0.9412,  ..., 0.9255, 0.9255, 0.9255],\n",
      "          [0.9412, 0.9412, 0.9412,  ..., 0.9255, 0.9255, 0.9255],\n",
      "          ...,\n",
      "          [0.9647, 0.9647, 0.9647,  ..., 0.9569, 0.9569, 0.9569],\n",
      "          [0.9647, 0.9647, 0.9647,  ..., 0.9569, 0.9569, 0.9569],\n",
      "          [0.9647, 0.9647, 0.9647,  ..., 0.9569, 0.9569, 0.9569]]],\n",
      "\n",
      "\n",
      "        [[[0.7059, 0.7020, 0.7020,  ..., 0.6275, 0.6314, 0.6275],\n",
      "          [0.7098, 0.7059, 0.7059,  ..., 0.6314, 0.6314, 0.6275],\n",
      "          [0.7137, 0.7098, 0.7098,  ..., 0.6275, 0.6314, 0.6314],\n",
      "          ...,\n",
      "          [0.8471, 0.8471, 0.8431,  ..., 0.7882, 0.7882, 0.7882],\n",
      "          [0.8510, 0.8510, 0.8431,  ..., 0.7882, 0.7882, 0.7843],\n",
      "          [0.8431, 0.8471, 0.8431,  ..., 0.7922, 0.7882, 0.7843]],\n",
      "\n",
      "         [[0.6902, 0.6863, 0.6863,  ..., 0.6118, 0.6157, 0.6118],\n",
      "          [0.6941, 0.6902, 0.6902,  ..., 0.6157, 0.6157, 0.6118],\n",
      "          [0.6980, 0.6941, 0.6941,  ..., 0.6196, 0.6157, 0.6157],\n",
      "          ...,\n",
      "          [0.8471, 0.8471, 0.8431,  ..., 0.7882, 0.7882, 0.7882],\n",
      "          [0.8510, 0.8510, 0.8431,  ..., 0.7882, 0.7882, 0.7843],\n",
      "          [0.8392, 0.8471, 0.8431,  ..., 0.7922, 0.7882, 0.7843]],\n",
      "\n",
      "         [[0.6863, 0.6824, 0.6824,  ..., 0.6078, 0.6118, 0.6078],\n",
      "          [0.6902, 0.6863, 0.6863,  ..., 0.6157, 0.6118, 0.6078],\n",
      "          [0.6941, 0.6902, 0.6902,  ..., 0.6235, 0.6157, 0.6118],\n",
      "          ...,\n",
      "          [0.8549, 0.8549, 0.8510,  ..., 0.7961, 0.7961, 0.7961],\n",
      "          [0.8627, 0.8549, 0.8431,  ..., 0.7961, 0.7961, 0.7922],\n",
      "          [0.8588, 0.8510, 0.8392,  ..., 0.8000, 0.7961, 0.7922]]],\n",
      "\n",
      "\n",
      "        [[[1.0000, 1.0000, 1.0000,  ..., 1.0000, 1.0000, 1.0000],\n",
      "          [1.0000, 1.0000, 1.0000,  ..., 1.0000, 1.0000, 1.0000],\n",
      "          [1.0000, 1.0000, 1.0000,  ..., 1.0000, 1.0000, 1.0000],\n",
      "          ...,\n",
      "          [1.0000, 1.0000, 1.0000,  ..., 1.0000, 1.0000, 1.0000],\n",
      "          [1.0000, 1.0000, 1.0000,  ..., 1.0000, 1.0000, 1.0000],\n",
      "          [1.0000, 1.0000, 1.0000,  ..., 1.0000, 1.0000, 1.0000]],\n",
      "\n",
      "         [[1.0000, 1.0000, 1.0000,  ..., 1.0000, 1.0000, 1.0000],\n",
      "          [1.0000, 1.0000, 1.0000,  ..., 1.0000, 1.0000, 1.0000],\n",
      "          [1.0000, 1.0000, 1.0000,  ..., 1.0000, 1.0000, 1.0000],\n",
      "          ...,\n",
      "          [1.0000, 1.0000, 1.0000,  ..., 1.0000, 1.0000, 1.0000],\n",
      "          [1.0000, 1.0000, 1.0000,  ..., 1.0000, 1.0000, 1.0000],\n",
      "          [1.0000, 1.0000, 1.0000,  ..., 1.0000, 1.0000, 1.0000]],\n",
      "\n",
      "         [[1.0000, 1.0000, 1.0000,  ..., 1.0000, 1.0000, 1.0000],\n",
      "          [1.0000, 1.0000, 1.0000,  ..., 1.0000, 1.0000, 1.0000],\n",
      "          [1.0000, 1.0000, 1.0000,  ..., 1.0000, 1.0000, 1.0000],\n",
      "          ...,\n",
      "          [1.0000, 1.0000, 1.0000,  ..., 1.0000, 1.0000, 1.0000],\n",
      "          [1.0000, 1.0000, 1.0000,  ..., 1.0000, 1.0000, 1.0000],\n",
      "          [1.0000, 1.0000, 1.0000,  ..., 1.0000, 1.0000, 1.0000]]]])\n",
      "tensor([0, 0, 1, 0, 0, 1, 0, 0, 0, 1, 0, 1, 1, 0, 0, 0, 0, 1, 0, 0, 0, 0, 1, 1,\n",
      "        0, 1, 0, 0, 1, 0, 1, 1])\n"
     ]
    }
   ],
   "source": [
    "for i,t in train_loader:\n",
    "    print(i)\n",
    "    print(t)\n",
    "    break"
   ]
  },
  {
   "cell_type": "markdown",
   "id": "3efff7f4",
   "metadata": {
    "id": "3efff7f4"
   },
   "source": [
    "### Inspecting Images\n",
    "These are some of the images from what was just downloaded. If interested, read about the CIFAR image dataset [here](https://www.cs.toronto.edu/~kriz/cifar.html)."
   ]
  },
  {
   "cell_type": "code",
   "execution_count": 8,
   "id": "fa52acdb",
   "metadata": {
    "id": "fa52acdb"
   },
   "outputs": [],
   "source": [
    "# h.show_random_images_from_full_dataset(datasets_test['CIFAR10'])\n",
    "# h.show_random_images_from_full_dataset(datasets)"
   ]
  },
  {
   "cell_type": "markdown",
   "id": "3d44efe9",
   "metadata": {
    "id": "3d44efe9"
   },
   "source": [
    "## Generating Embeddings and Sending them to Pinecone"
   ]
  },
  {
   "cell_type": "markdown",
   "id": "76fa256c",
   "metadata": {
    "id": "76fa256c"
   },
   "source": [
    "### Loading a Pretrained Computer Vision Model\n",
    "\n",
    "We will use a pretrained model that, like the dataset above, is shipped with PyTorch. This model will create a 1000-dimensional sequence of floats for each input image. We will use this output as an embedding associated with an image."
   ]
  },
  {
   "cell_type": "code",
   "execution_count": 9,
   "id": "2957be18",
   "metadata": {
    "id": "2957be18",
    "outputId": "8e149708-5de6-4813-c40b-417e047055d9"
   },
   "outputs": [],
   "source": [
    "model = torchvision.models.squeezenet1_1(pretrained=True).eval()"
   ]
  },
  {
   "cell_type": "markdown",
   "id": "c19e3be6",
   "metadata": {
    "id": "c19e3be6"
   },
   "source": [
    "### Why SqueezeNet?\n",
    "\n",
    "We chose the [SqueezeNet](https://en.wikipedia.org/wiki/SqueezeNet) model because it is a very small model and basic model that has been trained on [millions of images](https://en.wikipedia.org/wiki/ImageNet) across 1000 classes. It is easy to instantiate with one line of code and generates embeddings quite a bit faster than deeper models."
   ]
  },
  {
   "cell_type": "markdown",
   "id": "d78210b4",
   "metadata": {
    "id": "d78210b4"
   },
   "source": [
    "### On Comparing Embeddings\n",
    "\n",
    "Two embeddings might look like something like this:\n",
    "\n",
    "- \\[-0.02, 0.06, 0.0, 0.01, 0.08, -0.03, 0.01, 0.02, 0.01, 0.02, -0.07, -0.11, -0.01, 0.08, -0.04\\]\n",
    "- \\[-0.04, -0.09, 0.04, -0.1, -0.05, -0.01, -0.06, -0.04, -0.02, -0.04, -0.04, 0.07, 0.03, 0.02, 0.03\\]\n",
    "\n",
    "In order to determine how similar they are, we use a [simple](https://towardsdatascience.com/importance-of-distance-metrics-in-machine-learning-modelling-e51395ffe60d) formula that takes a very short time to compute. Similarity scores are, in general, an excellent proxy for image similarity."
   ]
  },
  {
   "cell_type": "markdown",
   "id": "6daa2327",
   "metadata": {
    "id": "6daa2327"
   },
   "source": [
    "### Creating Our Pinecone Index\n",
    "\n",
    "The process for creating a Pinecone Index requires your Pinecone API key, the name of your index, and the number of dimensions of each vector (1000).\n",
    "\n",
    "In this example, to compare embeddings, we will use the [cosine similarity score](https://en.wikipedia.org/wiki/Cosine_similarity) because this model generates un-normalized probability vectors. While this calculation is trivial when comparing two vectors, it will take quite a long time when needing to compare a query vector against millions or billions of vectors and determine those most similar with the query vector."
   ]
  },
  {
   "cell_type": "markdown",
   "id": "1136b796",
   "metadata": {
    "id": "1136b796"
   },
   "source": [
    "### What is Pinecone for?\n",
    "\n",
    "There is often a technical requirement to compare one vector to tens or hundreds of millions or more vectors, to do so with low latency (less than 50ms) and a high throughput. Pinecone solves this problem with its managed vector database service, and we will demonstrate this below."
   ]
  },
  {
   "cell_type": "code",
   "execution_count": 10,
   "id": "da86dff4",
   "metadata": {
    "id": "da86dff4"
   },
   "outputs": [],
   "source": [
    "# authenticate with Pinecone API, keys available at your project at https://app.pinecone.io\n",
    "pinecone.init(\n",
    "#     h.pinecone_api_key,\n",
    "    'e55c8ed0-af09-4521-8a56-8b0776c0aa8c',\n",
    "    environment=\"us-west4-gcp\"  # find next to API key in console\n",
    ")\n",
    "# if the index does not already exist, we create it\n",
    "if INDEX_NAME not in pinecone.list_indexes():\n",
    "    pinecone.create_index(name=INDEX_NAME, dimension=INDEX_DIMENSION)\n",
    "# instantiate connection to your Pinecone index\n",
    "index = pinecone.Index(INDEX_NAME)"
   ]
  },
  {
   "cell_type": "markdown",
   "id": "2afd646d",
   "metadata": {
    "id": "2afd646d"
   },
   "source": [
    "### Preparing Vector Embeddings\n",
    "\n",
    "We will encode the downloaded images for upload to Pinecone, and store the associated class of each image as metadata."
   ]
  },
  {
   "cell_type": "markdown",
   "id": "312d338a",
   "metadata": {
    "id": "312d338a"
   },
   "source": [
    "#### Creating Vector IDs\n",
    "Each vector ID will have a prefix corresponding to _CIFAR10_ or _CIFAR100_."
   ]
  },
  {
   "cell_type": "code",
   "execution_count": 11,
   "id": "b77a0771",
   "metadata": {
    "id": "b77a0771"
   },
   "outputs": [],
   "source": [
    "def get_vector_ids(batch_number, batch_size, prefix):\n",
    "    \"\"\"Return vector ids.\"\"\"\n",
    "    start_index = batch_number * batch_size\n",
    "    end_index = start_index + batch_size\n",
    "    ids = np.arange(start_index, end_index)\n",
    "    # create id based on prefix \n",
    "    # eg. if id == 5, prefix == 'CIFAR10', then create 'CIFAR10.5' as vector id.\n",
    "    ids_with_prefix = map(lambda x: f'{prefix}.{str(x)}', ids)\n",
    "    return ids_with_prefix"
   ]
  },
  {
   "cell_type": "markdown",
   "id": "3970e8d5",
   "metadata": {
    "id": "3970e8d5"
   },
   "source": [
    "#### Creating metadata for each vector containing class label"
   ]
  },
  {
   "cell_type": "code",
   "execution_count": 12,
   "id": "17b30dac",
   "metadata": {
    "id": "17b30dac"
   },
   "outputs": [],
   "source": [
    "def get_vector_metadata(label_indices, class_list):\n",
    "    \"\"\"Return list of {'label': <class name>}.\"\"\"\n",
    "    get_class_name = lambda index: {'label': class_list[index]}\n",
    "    return map(get_class_name, label_indices)"
   ]
  },
  {
   "cell_type": "markdown",
   "id": "755dd63d",
   "metadata": {
    "id": "755dd63d"
   },
   "source": [
    "#### Constructing Vector Embeddings\n",
    "\n",
    "In a Pinecone Vector Database, there are three components to every Pinecone vector embedding:\n",
    "\n",
    " - a vector ID\n",
    " - a sequence of floats of a user-defined, fixed dimension\n",
    " - vector metadata (a key-value mapping, used for filtering at runtime)"
   ]
  },
  {
   "cell_type": "code",
   "execution_count": 13,
   "id": "b32b0e37",
   "metadata": {
    "id": "b32b0e37"
   },
   "outputs": [],
   "source": [
    "def get_vectors_from_batch(preprocessed_data, label_indices, batch_number, dataset):\n",
    "    \"\"\"Return list of tuples like (vector_id, vector_values, vector_metadata).\"\"\"\n",
    "    num_records = len(preprocessed_data)\n",
    "    prefix = dataset.__class__.__name__\n",
    "    with torch.no_grad():\n",
    "        # generate image embeddings with PyTorch model\n",
    "        vector_values = model(preprocessed_data).tolist()\n",
    "    # return respective IDs/metadata for each image embedding\n",
    "    vector_metadata = get_vector_metadata(label_indices, dataset.classes)\n",
    "    vector_ids = get_vector_ids(batch_number, num_records, prefix)\n",
    "    return list(zip(vector_ids, vector_values, vector_metadata))"
   ]
  },
  {
   "cell_type": "markdown",
   "id": "c3c1e4ff",
   "metadata": {
    "id": "c3c1e4ff"
   },
   "source": [
    "#### Example Vector Embedding\n",
    "The below code is an example of a vector embedding, showing just the first 3 components of the associated vector."
   ]
  },
  {
   "cell_type": "code",
   "execution_count": 15,
   "id": "8559cd27",
   "metadata": {},
   "outputs": [],
   "source": [
    "#list(train_loader)"
   ]
  },
  {
   "cell_type": "code",
   "execution_count": 17,
   "id": "e29374b0",
   "metadata": {
    "id": "e29374b0",
    "outputId": "941f0955-70f2-4da5-ae7c-056a00f05c4f"
   },
   "outputs": [
    {
     "name": "stdout",
     "output_type": "stream",
     "text": [
      "ImageFolder.123, [6.171328067779541, 6.507511138916016, 5.9582695960998535], {'label': 'images'}\n"
     ]
    }
   ],
   "source": [
    "# dataset = datasets['CIFAR100']\n",
    "# dataset = datasets['deepfashion']\n",
    "dataset = train_loader\n",
    "list_of_preprocessed_tensors, label_indices = list(zip(*[train_loader.dataset[i] for i in range(BATCH_SIZE)]))\n",
    "preprocessed_data = torch.stack(list_of_preprocessed_tensors)\n",
    "vectors = get_vectors_from_batch(preprocessed_data, label_indices, 0, train_dataset)\n",
    "id_, embedding, metadata = vectors[123]\n",
    "print(id_, embedding[:3], metadata, sep=', ')"
   ]
  },
  {
   "cell_type": "markdown",
   "id": "374d3a7d",
   "metadata": {
    "id": "374d3a7d"
   },
   "source": [
    "#### Upsert Vectors to Pinecone\n",
    "This function iterates through a dataset in batches, generates a list of vector embeddings (as in the the above example) and upserts in batches to Pinecone."
   ]
  },
  {
   "cell_type": "code",
   "execution_count": 18,
   "id": "d9f637a5",
   "metadata": {
    "id": "d9f637a5"
   },
   "outputs": [],
   "source": [
    "def upsert_image_embeddings(dataset, pinecone_index, batch_size=BATCH_SIZE, num_rows=None):\n",
    "    \"\"\"Iterate through dataset, generate embeddings and upsert in batches to Pinecone index.\n",
    "    \n",
    "    Args:\n",
    "     - dataset: a PyTorch Dataset\n",
    "     - pinecone_index: your Pinecone index\n",
    "     - batch_size: batch size\n",
    "     - num_rows: Number of initial rows to use of dataset, use all rows if None. \n",
    "    \"\"\"\n",
    "    if num_rows > len(dataset):\n",
    "        raise ValueError(f'`num_rows` should not exceed length of dataset: {len(dataset)}')\n",
    "    if num_rows:\n",
    "        sampler = range(num_rows)\n",
    "    else:\n",
    "        sampler = None\n",
    "    dataloader = torch.utils.data.DataLoader(dataset, batch_size=BATCH_SIZE, sampler=sampler)\n",
    "    tqdm_kwargs = h.get_tqdm_kwargs(dataloader)\n",
    "    for batch_number, (data, label_indices) in tqdm.notebook.tqdm(enumerate(dataloader), **tqdm_kwargs):\n",
    "        vectors = get_vectors_from_batch(\n",
    "            data, \n",
    "            label_indices, \n",
    "            batch_number, \n",
    "            dataloader.dataset)\n",
    "        pinecone_index.upsert(vectors)"
   ]
  },
  {
   "cell_type": "markdown",
   "id": "c655647a",
   "metadata": {
    "id": "c655647a"
   },
   "source": [
    "### Begin Upsert for all 100,000 Images\n",
    "One progress bar is generated per dataset. Truncate number of rows in each dataset by modifying `num_rows` parameter value in the cell below. Each of the CIFAR datasets have 50,000 rows."
   ]
  },
  {
   "cell_type": "code",
   "execution_count": 23,
   "id": "daf5703f",
   "metadata": {
    "colab": {
     "referenced_widgets": [
      "535011097e8e4584a27cee94828c14d1"
     ]
    },
    "id": "daf5703f",
    "outputId": "72ac209f-b8f9-40a9-b391-6ae6ce6f7b52",
    "scrolled": true
   },
   "outputs": [
    {
     "data": {
      "application/vnd.jupyter.widget-view+json": {
       "model_id": "43d4861252294b2fa017e8ea8c6c5cb7",
       "version_major": 2,
       "version_minor": 0
      },
      "text/plain": [
       "  0%|          | 0/37 [00:00<?, ?chunk of 200 ImageFolder vectors/s]"
      ]
     },
     "metadata": {},
     "output_type": "display_data"
    }
   ],
   "source": [
    "# for dataset in datasets.values():\n",
    "#upsert_image_embeddings(dataset, index, num_rows=5000)\n",
    "\n",
    "upsert_image_embeddings(train_dataset, index, num_rows=5000)"
   ]
  },
  {
   "cell_type": "markdown",
   "id": "ad14d362",
   "metadata": {
    "id": "ad14d362"
   },
   "source": [
    "## View Progress On The [Pinecone Console](https://app.pinecone.io) (sample screenshot below)"
   ]
  },
  {
   "cell_type": "markdown",
   "id": "c069865b",
   "metadata": {
    "id": "c069865b"
   },
   "source": [
    "![Screen%20Shot%202022-05-28%20at%2001.40.07.png](attachment:Screen%20Shot%202022-05-28%20at%2001.40.07.png)"
   ]
  },
  {
   "cell_type": "markdown",
   "id": "behind-driving",
   "metadata": {
    "id": "behind-driving",
    "papermill": {
     "duration": 0.099945,
     "end_time": "2021-04-28T22:39:54.703643",
     "exception": false,
     "start_time": "2021-04-28T22:39:54.603698",
     "status": "completed"
    },
    "tags": []
   },
   "source": [
    "## Querying Pinecone"
   ]
  },
  {
   "cell_type": "markdown",
   "id": "lonely-notice",
   "metadata": {
    "id": "lonely-notice",
    "papermill": {
     "duration": 0.103076,
     "end_time": "2021-04-28T22:39:54.902705",
     "exception": false,
     "start_time": "2021-04-28T22:39:54.799629",
     "status": "completed"
    },
    "tags": []
   },
   "source": [
    "Now that all the embeddings of the images are on Pinecone's database, it's time to demonstrate Pinecone's lightning fast query capabilities."
   ]
  },
  {
   "cell_type": "markdown",
   "id": "a3300e81",
   "metadata": {
    "id": "a3300e81"
   },
   "source": [
    "###  Pinecone Example Usage\n",
    "\n",
    "In the below example we query Pinecone's API with an embedding of a query image to return the vector embeddings that have the highest similarity score. Pinecone effeciently estimates which of the uploaded vector embeddings have the highest similarity when paired with the query term's embedding, and the database will scale to billions of embeddings maintaining low-latency and high throughput. In this example we have upserted 100,000 embeddings. Our starter plan supports up to one million."
   ]
  },
  {
   "cell_type": "markdown",
   "id": "58f2e985",
   "metadata": {
    "id": "58f2e985"
   },
   "source": [
    "#### Example: Pinecone API Request and Response\n",
    "\n",
    "Let's find images similar to the `query_image` variable, shown below."
   ]
  },
  {
   "cell_type": "markdown",
   "id": "2d02b6a1",
   "metadata": {
    "id": "2d02b6a1"
   },
   "source": [
    "#### Example Query Image"
   ]
  },
  {
   "cell_type": "code",
   "execution_count": 24,
   "id": "75bd6174",
   "metadata": {
    "id": "75bd6174",
    "outputId": "6019e089-f434-4521-a8c8-331f3db0210d"
   },
   "outputs": [
    {
     "data": {
      "text/markdown": [
       "#### A sample image"
      ],
      "text/plain": [
       "<IPython.core.display.Markdown object>"
      ]
     },
     "metadata": {},
     "output_type": "display_data"
    },
    {
     "data": {
      "image/png": "[encoded data removed]",
      "text/plain": [
       "<PIL.Image.Image image mode=RGB size=125x125 at 0x7FC10C1F6DC0>"
      ]
     },
     "execution_count": 24,
     "metadata": {},
     "output_type": "execute_result"
    }
   ],
   "source": [
    "# url = 'https://www.cs.toronto.edu/~kriz/cifar-10-sample/dog4.png'\n",
    "# r = requests.get(url, stream=True)\n",
    "# query_image = Image.open(r.raw)\n",
    "# h.printmd(\"#### A sample image\")\n",
    "# query_image.resize((125,125))\n",
    "\n",
    "url = 'https://www.cs.toronto.edu/~kriz/cifar-10-sample/dog4.png'\n",
    "r = requests.get(url, stream=True)\n",
    "query_image = Image.open(r.raw)\n",
    "h.printmd(\"#### A sample image\")\n",
    "query_image.resize((125,125))"
   ]
  },
  {
   "cell_type": "code",
   "execution_count": 86,
   "id": "645230d0",
   "metadata": {
    "id": "645230d0",
    "outputId": "05ac8b87-e6df-484b-c9f1-1086dc362159"
   },
   "outputs": [
    {
     "data": {
      "text/markdown": [
       "#### A sample response from Pinecone \n",
       " ==============\n",
       " \n"
      ],
      "text/plain": [
       "<IPython.core.display.Markdown object>"
      ]
     },
     "metadata": {},
     "output_type": "display_data"
    },
    {
     "data": {
      "text/markdown": [
       "```python\n",
       "{'matches': [{'id': 'ImageFolder.1843',\n",
       "              'metadata': {'label': 'images'},\n",
       "              'score': 0.885242641,\n",
       "              'values': []},\n",
       "             {'id': 'ImageFolder.1273',\n",
       "              'metadata': {'label': 'images'},\n",
       "              'score': 0.881108463,\n",
       "              'values': []},\n",
       "             {'id': 'ImageFolder.4601',\n",
       "              'metadata': {'label': 'images'},\n",
       "              'score': 0.87963742,\n",
       "              'values': []},\n",
       "             {'id': 'ImageFolder.1975',\n",
       "              'metadata': {'label': 'images'},\n",
       "              'score': 0.879360318,\n",
       "              'values': []}],\n",
       " 'namespace': ''}\n",
       "```"
      ],
      "text/plain": [
       "<IPython.core.display.Markdown object>"
      ]
     },
     "metadata": {},
     "output_type": "display_data"
    },
    {
     "data": {
      "text/plain": [
       "'ImageFolder.1843'"
      ]
     },
     "execution_count": 86,
     "metadata": {},
     "output_type": "execute_result"
    }
   ],
   "source": [
    "query_embedding = model(h.preprocess(query_image).unsqueeze(0)).tolist()\n",
    "# response = index.query(query_embedding, top_k=4, include_metadata=True)\n",
    "response = index.query(query_embedding, top_k=4, include_metadata=True)\n",
    "h.printmd(f\"#### A sample response from Pinecone \\n ==============\\n \\n\")\n",
    "h.printmd(f\"```python\\n{response}\\n```\")\n",
    "\n",
    "# response['matches'][0]['id']"
   ]
  },
  {
   "cell_type": "code",
   "execution_count": 89,
   "id": "4c3ebb0b",
   "metadata": {},
   "outputs": [
    {
     "data": {
      "text/plain": [
       "'1843'"
      ]
     },
     "execution_count": 89,
     "metadata": {},
     "output_type": "execute_result"
    }
   ],
   "source": [
    "response['matches'][0]['id'].split('.')[1]"
   ]
  },
  {
   "cell_type": "markdown",
   "id": "e2a08033",
   "metadata": {
    "id": "e2a08033"
   },
   "source": [
    "#### Enriched Response\n",
    "In the next few lines, we look up the actual images associated to the vector embeddings."
   ]
  },
  {
   "cell_type": "code",
   "execution_count": 26,
   "id": "d1218288",
   "metadata": {},
   "outputs": [],
   "source": [
    "import os\n",
    "import itertools\n",
    "import re\n",
    "import getpass\n",
    "import random\n",
    "\n",
    "from IPython.display import display, Markdown\n",
    "import numpy as np\n",
    "import matplotlib.pyplot as plt\n",
    "from mpl_toolkits.axes_grid1 import ImageGrid\n",
    "import seaborn as sns\n",
    "\n",
    "from torchvision.transforms import (\n",
    "    Compose, \n",
    "    Resize, \n",
    "    CenterCrop, \n",
    "    ToTensor, \n",
    "    Normalize\n",
    ")"
   ]
  },
  {
   "cell_type": "code",
   "execution_count": 60,
   "id": "a57daabf",
   "metadata": {},
   "outputs": [],
   "source": [
    "def _get_ids_scores_metadatas(response):\n",
    "    \"\"\"Return ids and scores from Pinecone query response.\"\"\"\n",
    "    matches = response['matches']\n",
    "    ids, scores, metadatas = zip(*[(\n",
    "        match['id'], \n",
    "        match['score'], \n",
    "        match['metadata']\n",
    "    ) for match in matches])\n",
    "    return list(ids), list(scores), list(metadatas)\n",
    "\n",
    "\n",
    "def get_response_information(response):\n",
    "    \"\"\"Return dataset, ids, and scores from Pinecone query response.\"\"\"\n",
    "    ids, scores, metadatas = _get_ids_scores_metadatas(response)\n",
    "    datasets, rows = list(zip(*[id_.split('.') for id_ in ids]))\n",
    "    return datasets, map(int, rows), scores, metadatas\n",
    "\n",
    "\n",
    "def show_response_as_grid(response, datasets, nrows, ncols, **subplot_kwargs):\n",
    "    fig, axes = plt.subplots(nrows, ncols, **subplot_kwargs)\n",
    "    fig.tight_layout()\n",
    "    iter_response = get_response_information(response)\n",
    "    print(iter_response)\n",
    "    iter_images = zip(*[*iter_response, axes.flat])\n",
    "    for dataset_name, row, score, metadata, ax in iter_images:\n",
    "\n",
    "        #result_array = datasets[dataset_name].data[row]\n",
    "        result_array = datasets[row][0].numpy()\n",
    "        result_img = np.transpose(result_array, (1,2,0))\n",
    "        plt.imshow(result_img)\n",
    "#         ax.imshow(result_array)\n",
    "#         ax.set_title(\n",
    "#             f'{dataset_name}: {metadata[\"label\"]}\\nsimilarity: {score:.4}'\n",
    "#         )\n",
    "#         ax.axis(\"off\")"
   ]
  },
  {
   "cell_type": "code",
   "execution_count": 81,
   "id": "77b62423",
   "metadata": {},
   "outputs": [
    {
     "data": {
      "text/plain": [
       "<map at 0x7fc0eb44f9a0>"
      ]
     },
     "execution_count": 81,
     "metadata": {},
     "output_type": "execute_result"
    }
   ],
   "source": [
    "get_response_information(response)[1]"
   ]
  },
  {
   "cell_type": "code",
   "execution_count": 61,
   "id": "e2ca1481",
   "metadata": {},
   "outputs": [
    {
     "data": {
      "text/plain": [
       "<matplotlib.image.AxesImage at 0x7fc129da76d0>"
      ]
     },
     "execution_count": 61,
     "metadata": {},
     "output_type": "execute_result"
    },
    {
     "data": {
      "image/png": "[encoded data removed]",
      "text/plain": [
       "<Figure size 432x288 with 1 Axes>"
      ]
     },
     "metadata": {
      "needs_background": "light"
     },
     "output_type": "display_data"
    }
   ],
   "source": [
    "test = train_dataset[1000][0].numpy()\n",
    "testimg = np.transpose(test, (1,2,0))\n",
    "plt.imshow(testimg)"
   ]
  },
  {
   "cell_type": "code",
   "execution_count": 62,
   "id": "b2043766",
   "metadata": {
    "id": "b2043766",
    "scrolled": false
   },
   "outputs": [
    {
     "name": "stdout",
     "output_type": "stream",
     "text": [
      "(('ImageFolder', 'ImageFolder', 'ImageFolder', 'ImageFolder'), <map object at 0x7fc12b602460>, [0.885242641, 0.881108463, 0.87963742, 0.879360318], [{'label': 'images'}, {'label': 'images'}, {'label': 'images'}, {'label': 'images'}])\n"
     ]
    },
    {
     "data": {
      "image/png": "[encoded data removed]",
      "text/plain": [
       "<Figure size 720x720 with 4 Axes>"
      ]
     },
     "metadata": {
      "needs_background": "light"
     },
     "output_type": "display_data"
    }
   ],
   "source": [
    "# show_response_as_grid(response, datasets, 1, 4, figsize=(10, 10))\n",
    "show_response_as_grid(response, train_dataset, 1, 4, figsize=(10, 10))"
   ]
  },
  {
   "cell_type": "markdown",
   "id": "da6323a6",
   "metadata": {
    "id": "da6323a6"
   },
   "source": [
    "#### Results\n",
    "\n",
    "We invite the reader to explore various queries to see how they come up. In the one above, we chose one of the CIFAR-10 images as the query image. Note that the query image embedding need not exist in your Pinecone index in order to find similar images. Additionally, the search results are only as good as the embeddings, which are based on the quality and quantity of the images as well as how expressive the model used is. There are plenty of other out of the box, pretrained models in PyTorch and elsewhere!"
   ]
  },
  {
   "cell_type": "markdown",
   "id": "sealed-pennsylvania",
   "metadata": {
    "id": "sealed-pennsylvania",
    "papermill": {
     "duration": 0.144059,
     "end_time": "2021-04-28T22:40:07.144120",
     "exception": false,
     "start_time": "2021-04-28T22:40:07.000061",
     "status": "completed"
    },
    "tags": []
   },
   "source": [
    "### Pinecone Example Usage with Metadata\n",
    "\n",
    "Extensive predicate logic can be applied to metadata filtering, just like the [WHERE clause](https://www.pinecone.io/learn/vector-search-filtering/) in SQL! Pinecone's [metadata feature](https://www.pinecone.io/docs/metadata-filtering/) provides easy-to-implement filtering."
   ]
  },
  {
   "cell_type": "markdown",
   "id": "4dec61b1",
   "metadata": {
    "id": "4dec61b1"
   },
   "source": [
    "#### Example using Metadata\n",
    "\n",
    "For demonstration, let's use metadata to find all images classified as a _seal_ that look like the `query_image` variable shown above."
   ]
  },
  {
   "cell_type": "code",
   "execution_count": 85,
   "id": "293e30b0",
   "metadata": {},
   "outputs": [
    {
     "data": {
      "text/plain": [
       "<matplotlib.image.AxesImage at 0x7fc0b80ed2e0>"
      ]
     },
     "execution_count": 85,
     "metadata": {},
     "output_type": "execute_result"
    },
    {
     "data": {
      "image/png": "[encoded data removed]",
      "text/plain": [
       "<Figure size 432x288 with 1 Axes>"
      ]
     },
     "metadata": {
      "needs_background": "light"
     },
     "output_type": "display_data"
    }
   ],
   "source": [
    "\n",
    "result_array = train_dataset[][0].numpy()\n",
    "result_img = np.transpose(result_array, (1,2,0))\n",
    "plt.imshow(result_img)"
   ]
  },
  {
   "cell_type": "code",
   "execution_count": 82,
   "id": "9d9105bc",
   "metadata": {},
   "outputs": [
    {
     "data": {
      "text/plain": [
       "[{'id': 'ImageFolder.1843',\n",
       "  'metadata': {'label': 'images'},\n",
       "  'score': 0.885242641,\n",
       "  'values': []},\n",
       " {'id': 'ImageFolder.1273',\n",
       "  'metadata': {'label': 'images'},\n",
       "  'score': 0.881108463,\n",
       "  'values': []},\n",
       " {'id': 'ImageFolder.4601',\n",
       "  'metadata': {'label': 'images'},\n",
       "  'score': 0.87963742,\n",
       "  'values': []},\n",
       " {'id': 'ImageFolder.1975',\n",
       "  'metadata': {'label': 'images'},\n",
       "  'score': 0.879360318,\n",
       "  'values': []},\n",
       " {'id': 'ImageFolder.4085',\n",
       "  'metadata': {'label': 'images'},\n",
       "  'score': 0.879289627,\n",
       "  'values': []},\n",
       " {'id': 'ImageFolder.3990',\n",
       "  'metadata': {'label': 'images'},\n",
       "  'score': 0.878834128,\n",
       "  'values': []},\n",
       " {'id': 'ImageFolder.2305',\n",
       "  'metadata': {'label': 'images'},\n",
       "  'score': 0.875638068,\n",
       "  'values': []},\n",
       " {'id': 'ImageFolder.3602',\n",
       "  'metadata': {'label': 'images'},\n",
       "  'score': 0.875175118,\n",
       "  'values': []},\n",
       " {'id': 'ImageFolder.4105',\n",
       "  'metadata': {'label': 'images'},\n",
       "  'score': 0.875070035,\n",
       "  'values': []},\n",
       " {'id': 'ImageFolder.915',\n",
       "  'metadata': {'label': 'images'},\n",
       "  'score': 0.874868631,\n",
       "  'values': []},\n",
       " {'id': 'ImageFolder.4740',\n",
       "  'metadata': {'label': 'images'},\n",
       "  'score': 0.874773324,\n",
       "  'values': []},\n",
       " {'id': 'ImageFolder.4913',\n",
       "  'metadata': {'label': 'images'},\n",
       "  'score': 0.87434876,\n",
       "  'values': []},\n",
       " {'id': 'ImageFolder.1095',\n",
       "  'metadata': {'label': 'images'},\n",
       "  'score': 0.873928249,\n",
       "  'values': []},\n",
       " {'id': 'ImageFolder.781',\n",
       "  'metadata': {'label': 'images'},\n",
       "  'score': 0.873865843,\n",
       "  'values': []},\n",
       " {'id': 'ImageFolder.2083',\n",
       "  'metadata': {'label': 'images'},\n",
       "  'score': 0.873730421,\n",
       "  'values': []},\n",
       " {'id': 'ImageFolder.1991',\n",
       "  'metadata': {'label': 'images'},\n",
       "  'score': 0.873702228,\n",
       "  'values': []},\n",
       " {'id': 'ImageFolder.1974',\n",
       "  'metadata': {'label': 'images'},\n",
       "  'score': 0.872958779,\n",
       "  'values': []},\n",
       " {'id': 'ImageFolder.1106',\n",
       "  'metadata': {'label': 'images'},\n",
       "  'score': 0.872939825,\n",
       "  'values': []},\n",
       " {'id': 'ImageFolder.2156',\n",
       "  'metadata': {'label': 'images'},\n",
       "  'score': 0.872265697,\n",
       "  'values': []},\n",
       " {'id': 'ImageFolder.1647',\n",
       "  'metadata': {'label': 'images'},\n",
       "  'score': 0.872008085,\n",
       "  'values': []},\n",
       " {'id': 'ImageFolder.121',\n",
       "  'metadata': {'label': 'images'},\n",
       "  'score': 0.871938765,\n",
       "  'values': []},\n",
       " {'id': 'ImageFolder.2417',\n",
       "  'metadata': {'label': 'images'},\n",
       "  'score': 0.871708393,\n",
       "  'values': []},\n",
       " {'id': 'ImageFolder.4982',\n",
       "  'metadata': {'label': 'images'},\n",
       "  'score': 0.871520281,\n",
       "  'values': []},\n",
       " {'id': 'ImageFolder.3266',\n",
       "  'metadata': {'label': 'images'},\n",
       "  'score': 0.870949864,\n",
       "  'values': []},\n",
       " {'id': 'ImageFolder.2844',\n",
       "  'metadata': {'label': 'images'},\n",
       "  'score': 0.870784879,\n",
       "  'values': []}]"
      ]
     },
     "execution_count": 82,
     "metadata": {},
     "output_type": "execute_result"
    }
   ],
   "source": [
    "for i in response['matches']:\n",
    "    print"
   ]
  },
  {
   "cell_type": "code",
   "execution_count": 67,
   "id": "28f6b724",
   "metadata": {
    "id": "28f6b724",
    "outputId": "1d47ea18-db15-4187-8d67-3f04d50e62de"
   },
   "outputs": [
    {
     "name": "stdout",
     "output_type": "stream",
     "text": [
      "(('ImageFolder', 'ImageFolder', 'ImageFolder', 'ImageFolder', 'ImageFolder', 'ImageFolder', 'ImageFolder', 'ImageFolder', 'ImageFolder', 'ImageFolder', 'ImageFolder', 'ImageFolder', 'ImageFolder', 'ImageFolder', 'ImageFolder', 'ImageFolder', 'ImageFolder', 'ImageFolder', 'ImageFolder', 'ImageFolder', 'ImageFolder', 'ImageFolder', 'ImageFolder', 'ImageFolder', 'ImageFolder'), <map object at 0x7fc0eb2d65b0>, [0.885242641, 0.881108463, 0.87963742, 0.879360318, 0.879289627, 0.878834128, 0.875638068, 0.875175118, 0.875070035, 0.874868631, 0.874773324, 0.87434876, 0.873928249, 0.873865843, 0.873730421, 0.873702228, 0.872958779, 0.872939825, 0.872265697, 0.872008085, 0.871938765, 0.871708393, 0.871520281, 0.870949864, 0.870784879], [{'label': 'images'}, {'label': 'images'}, {'label': 'images'}, {'label': 'images'}, {'label': 'images'}, {'label': 'images'}, {'label': 'images'}, {'label': 'images'}, {'label': 'images'}, {'label': 'images'}, {'label': 'images'}, {'label': 'images'}, {'label': 'images'}, {'label': 'images'}, {'label': 'images'}, {'label': 'images'}, {'label': 'images'}, {'label': 'images'}, {'label': 'images'}, {'label': 'images'}, {'label': 'images'}, {'label': 'images'}, {'label': 'images'}, {'label': 'images'}, {'label': 'images'}])\n"
     ]
    },
    {
     "ename": "TypeError",
     "evalue": "'module' object is not subscriptable",
     "output_type": "error",
     "traceback": [
      "\u001b[0;31m---------------------------------------------------------------------------\u001b[0m",
      "\u001b[0;31mTypeError\u001b[0m                                 Traceback (most recent call last)",
      "Input \u001b[0;32mIn [67]\u001b[0m, in \u001b[0;36m<cell line: 8>\u001b[0;34m()\u001b[0m\n\u001b[1;32m      1\u001b[0m response \u001b[38;5;241m=\u001b[39m index\u001b[38;5;241m.\u001b[39mquery(\n\u001b[1;32m      2\u001b[0m     query_embedding, \n\u001b[1;32m      3\u001b[0m     top_k\u001b[38;5;241m=\u001b[39m\u001b[38;5;241m25\u001b[39m, \n\u001b[1;32m      4\u001b[0m     \u001b[38;5;28mfilter\u001b[39m\u001b[38;5;241m=\u001b[39m{\u001b[38;5;124m\"\u001b[39m\u001b[38;5;124mlabel\u001b[39m\u001b[38;5;124m\"\u001b[39m: {\u001b[38;5;124m\"\u001b[39m\u001b[38;5;124m$eq\u001b[39m\u001b[38;5;124m\"\u001b[39m: \u001b[38;5;124m\"\u001b[39m\u001b[38;5;124mimages\u001b[39m\u001b[38;5;124m\"\u001b[39m}},\n\u001b[1;32m      5\u001b[0m     include_metadata\u001b[38;5;241m=\u001b[39m\u001b[38;5;28;01mTrue\u001b[39;00m\n\u001b[1;32m      6\u001b[0m )\n\u001b[1;32m      7\u001b[0m \u001b[38;5;66;03m# h.show_response_as_grid(response, datasets, 5, 5, figsize=(10, 10))\u001b[39;00m\n\u001b[0;32m----> 8\u001b[0m \u001b[43mshow_response_as_grid\u001b[49m\u001b[43m(\u001b[49m\u001b[43mresponse\u001b[49m\u001b[43m,\u001b[49m\u001b[43m \u001b[49m\u001b[43mdatasets\u001b[49m\u001b[43m,\u001b[49m\u001b[43m \u001b[49m\u001b[38;5;241;43m5\u001b[39;49m\u001b[43m,\u001b[49m\u001b[43m \u001b[49m\u001b[38;5;241;43m5\u001b[39;49m\u001b[43m,\u001b[49m\u001b[43m \u001b[49m\u001b[43mfigsize\u001b[49m\u001b[38;5;241;43m=\u001b[39;49m\u001b[43m(\u001b[49m\u001b[38;5;241;43m10\u001b[39;49m\u001b[43m,\u001b[49m\u001b[43m \u001b[49m\u001b[38;5;241;43m10\u001b[39;49m\u001b[43m)\u001b[49m\u001b[43m)\u001b[49m\n",
      "Input \u001b[0;32mIn [60]\u001b[0m, in \u001b[0;36mshow_response_as_grid\u001b[0;34m(response, datasets, nrows, ncols, **subplot_kwargs)\u001b[0m\n\u001b[1;32m     24\u001b[0m iter_images \u001b[38;5;241m=\u001b[39m \u001b[38;5;28mzip\u001b[39m(\u001b[38;5;241m*\u001b[39m[\u001b[38;5;241m*\u001b[39miter_response, axes\u001b[38;5;241m.\u001b[39mflat])\n\u001b[1;32m     25\u001b[0m \u001b[38;5;28;01mfor\u001b[39;00m dataset_name, row, score, metadata, ax \u001b[38;5;129;01min\u001b[39;00m iter_images:\n\u001b[1;32m     26\u001b[0m \n\u001b[1;32m     27\u001b[0m     \u001b[38;5;66;03m#result_array = datasets[dataset_name].data[row]\u001b[39;00m\n\u001b[0;32m---> 28\u001b[0m     result_array \u001b[38;5;241m=\u001b[39m \u001b[43mdatasets\u001b[49m\u001b[43m[\u001b[49m\u001b[43mrow\u001b[49m\u001b[43m]\u001b[49m[\u001b[38;5;241m0\u001b[39m]\u001b[38;5;241m.\u001b[39mnumpy()\n\u001b[1;32m     29\u001b[0m     result_img \u001b[38;5;241m=\u001b[39m np\u001b[38;5;241m.\u001b[39mtranspose(result_array, (\u001b[38;5;241m1\u001b[39m,\u001b[38;5;241m2\u001b[39m,\u001b[38;5;241m0\u001b[39m))\n\u001b[1;32m     30\u001b[0m     plt\u001b[38;5;241m.\u001b[39mimshow(result_img)\n",
      "\u001b[0;31mTypeError\u001b[0m: 'module' object is not subscriptable"
     ]
    },
    {
     "data": {
      "image/png": "[encoded data removed]",
      "text/plain": [
       "<Figure size 720x720 with 25 Axes>"
      ]
     },
     "metadata": {
      "needs_background": "light"
     },
     "output_type": "display_data"
    }
   ],
   "source": [
    "response = index.query(\n",
    "    query_embedding, \n",
    "    top_k=25, \n",
    "    filter={\"label\": {\"$eq\": \"images\"}},\n",
    "    include_metadata=True\n",
    ")\n",
    "# h.show_response_as_grid(response, datasets, 5, 5, figsize=(10, 10))\n",
    "show_response_as_grid(response, datasets, 5, 5, figsize=(10, 10))"
   ]
  },
  {
   "cell_type": "markdown",
   "id": "11a1f8f2",
   "metadata": {
    "id": "11a1f8f2"
   },
   "source": [
    "#### Results\n",
    "\n",
    "All of the results returned are indeed seals, and many of them do look like the query image! Note how the cosine similarity scores are returned in descending order."
   ]
  },
  {
   "cell_type": "markdown",
   "id": "f158c431",
   "metadata": {
    "id": "f158c431"
   },
   "source": [
    "#### Additional Note On Querying Pinecone\n",
    "\n",
    "In this example, you queried your Pinecone index with an embedding that was already in the index, however that is not necessary at all. For this index, _any 1000-dimensional embedding_ can be used to query Pinecone."
   ]
  },
  {
   "cell_type": "markdown",
   "id": "d1ed7fab",
   "metadata": {
    "id": "d1ed7fab"
   },
   "source": [
    "## Conclusion\n",
    "\n",
    "In this example, we demonstrated how Pinecone makes it possible to do realtime image similarity search using a pre-trained computer vision model! We also demonstrated the use of metadata filtering with querying Pinecone's vector database."
   ]
  },
  {
   "cell_type": "markdown",
   "id": "1fa2789b",
   "metadata": {
    "id": "1fa2789b"
   },
   "source": [
    "### Like what you see? Explore our [community](https://www.pinecone.io/community/) \n",
    "\n",
    "Learn more about semantic search and the rich, performant, and production-level feature set of Pinecone's Vector Database by visiting https://pinecone.io, connecting with us [here](https://www.pinecone.io/contact/) and following us on [LinkedIn](https://www.linkedin.com/company/pinecone-io). If interested in some of the algorithms that allow for effecient estimation of similar vectors, visit our Algorithms and Libraries section of our [Learning Center](https://www.pinecone.io/learn/)."
   ]
  }
 ],
 "metadata": {
  "accelerator": "GPU",
  "colab": {
   "provenance": []
  },
  "environment": {
   "name": "common-cpu.m65",
   "type": "gcloud",
   "uri": "gcr.io/deeplearning-platform-release/base-cpu:m65"
  },
  "kernelspec": {
   "display_name": "Python 3 (ipykernel)",
   "language": "python",
   "name": "python3"
  },
  "language_info": {
   "codemirror_mode": {
    "name": "ipython",
    "version": 3
   },
   "file_extension": ".py",
   "mimetype": "text/x-python",
   "name": "python",
   "nbconvert_exporter": "python",
   "pygments_lexer": "ipython3",
   "version": "3.9.12"
  },
  "papermill": {
   "default_parameters": {},
   "duration": 295.210786,
   "end_time": "2021-04-28T22:40:22.227918",
   "environment_variables": {},
   "exception": null,
   "input_path": "/notebooks/image_search/simple_pytorch_image_search.ipynb",
   "output_path": "/notebooks/tmp/image_search/simple_pytorch_image_search.ipynb",
   "parameters": {},
   "start_time": "2021-04-28T22:35:27.017132",
   "version": "2.3.3"
  },
  "vscode": {
   "interpreter": {
    "hash": "b0fa6594d8f4cbf19f97940f81e996739fb7646882a419484c72d19e05852a7e"
   }
  }
 },
 "nbformat": 4,
 "nbformat_minor": 5
}
